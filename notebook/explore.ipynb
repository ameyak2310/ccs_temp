{
 "cells": [
  {
   "cell_type": "markdown",
   "metadata": {},
   "source": [
    "# Libraries / Installs"
   ]
  },
  {
   "cell_type": "code",
   "execution_count": 1,
   "metadata": {},
   "outputs": [],
   "source": [
    "# !pip install pandas\n",
    "# !pip install openpyxl\n",
    "# !pip install matplotlib\n",
    "# !pip install numpy\n",
    "# !pip install seaborn\n",
    "# !pip install plotly\n",
    "# !pip install --upgrade nbformat==5.10.4\n",
    "# !pip install ipykernel\n"
   ]
  },
  {
   "cell_type": "markdown",
   "metadata": {},
   "source": [
    "# Loading Data"
   ]
  },
  {
   "cell_type": "code",
   "execution_count": 26,
   "metadata": {},
   "outputs": [
    {
     "data": {
      "text/html": [
       "<div>\n",
       "<style scoped>\n",
       "    .dataframe tbody tr th:only-of-type {\n",
       "        vertical-align: middle;\n",
       "    }\n",
       "\n",
       "    .dataframe tbody tr th {\n",
       "        vertical-align: top;\n",
       "    }\n",
       "\n",
       "    .dataframe thead th {\n",
       "        text-align: right;\n",
       "    }\n",
       "</style>\n",
       "<table border=\"1\" class=\"dataframe\">\n",
       "  <thead>\n",
       "    <tr style=\"text-align: right;\">\n",
       "      <th></th>\n",
       "      <th>Cases</th>\n",
       "      <th>Current</th>\n",
       "      <th>Volume</th>\n",
       "      <th>Time</th>\n",
       "      <th>CO</th>\n",
       "      <th>CH4</th>\n",
       "      <th>C2H4</th>\n",
       "      <th>H2</th>\n",
       "      <th>Formal</th>\n",
       "      <th>Formic</th>\n",
       "      <th>Acetic</th>\n",
       "      <th>Acetal</th>\n",
       "      <th>Mt-ol</th>\n",
       "      <th>Et-ol</th>\n",
       "      <th>Acetone</th>\n",
       "      <th>2-Pr-ol</th>\n",
       "      <th>1-Pr-ol</th>\n",
       "    </tr>\n",
       "  </thead>\n",
       "  <tbody>\n",
       "    <tr>\n",
       "      <th>22</th>\n",
       "      <td>13may_Brass_2M_0C_4.5_1.3V</td>\n",
       "      <td>298</td>\n",
       "      <td>23</td>\n",
       "      <td>45.0</td>\n",
       "      <td>3.9</td>\n",
       "      <td>0.7</td>\n",
       "      <td>4.4</td>\n",
       "      <td>37.0</td>\n",
       "      <td>0.000000</td>\n",
       "      <td>14.673315</td>\n",
       "      <td>0.176521</td>\n",
       "      <td>0</td>\n",
       "      <td>0.860540</td>\n",
       "      <td>4.302701</td>\n",
       "      <td>0.126086</td>\n",
       "      <td>0.000000</td>\n",
       "      <td>1.489397</td>\n",
       "    </tr>\n",
       "    <tr>\n",
       "      <th>23</th>\n",
       "      <td>13may_Brass_2M_0C_5.0_1.3V</td>\n",
       "      <td>375</td>\n",
       "      <td>23</td>\n",
       "      <td>45.0</td>\n",
       "      <td>3.2</td>\n",
       "      <td>1.3</td>\n",
       "      <td>4.2</td>\n",
       "      <td>41.2</td>\n",
       "      <td>0.043836</td>\n",
       "      <td>12.361771</td>\n",
       "      <td>0.280551</td>\n",
       "      <td>0</td>\n",
       "      <td>0.867954</td>\n",
       "      <td>4.997312</td>\n",
       "      <td>0.000000</td>\n",
       "      <td>0.000000</td>\n",
       "      <td>1.380836</td>\n",
       "    </tr>\n",
       "    <tr>\n",
       "      <th>24</th>\n",
       "      <td>14May_2M_1C_3.9_1.3V</td>\n",
       "      <td>100</td>\n",
       "      <td>23</td>\n",
       "      <td>45.0</td>\n",
       "      <td>10.4</td>\n",
       "      <td>0.0</td>\n",
       "      <td>4.7</td>\n",
       "      <td>23.0</td>\n",
       "      <td>0.000000</td>\n",
       "      <td>30.575658</td>\n",
       "      <td>0.000000</td>\n",
       "      <td>0</td>\n",
       "      <td>0.789049</td>\n",
       "      <td>3.945246</td>\n",
       "      <td>0.000000</td>\n",
       "      <td>0.000000</td>\n",
       "      <td>1.479467</td>\n",
       "    </tr>\n",
       "    <tr>\n",
       "      <th>25</th>\n",
       "      <td>14May_2M_1C_4.3_1.3V</td>\n",
       "      <td>165</td>\n",
       "      <td>23</td>\n",
       "      <td>47.5</td>\n",
       "      <td>8.2</td>\n",
       "      <td>0.7</td>\n",
       "      <td>7.8</td>\n",
       "      <td>21.9</td>\n",
       "      <td>0.094384</td>\n",
       "      <td>27.748861</td>\n",
       "      <td>0.453043</td>\n",
       "      <td>0</td>\n",
       "      <td>1.585649</td>\n",
       "      <td>12.458672</td>\n",
       "      <td>0.000000</td>\n",
       "      <td>4.854028</td>\n",
       "      <td>4.247275</td>\n",
       "    </tr>\n",
       "    <tr>\n",
       "      <th>26</th>\n",
       "      <td>14May_1M_4.5_1.3V</td>\n",
       "      <td>264</td>\n",
       "      <td>23</td>\n",
       "      <td>45.0</td>\n",
       "      <td>5.2</td>\n",
       "      <td>2.5</td>\n",
       "      <td>14.3</td>\n",
       "      <td>15.2</td>\n",
       "      <td>0.000000</td>\n",
       "      <td>20.797226</td>\n",
       "      <td>0.697392</td>\n",
       "      <td>0</td>\n",
       "      <td>1.980095</td>\n",
       "      <td>15.691320</td>\n",
       "      <td>0.426975</td>\n",
       "      <td>8.005776</td>\n",
       "      <td>4.203032</td>\n",
       "    </tr>\n",
       "  </tbody>\n",
       "</table>\n",
       "</div>"
      ],
      "text/plain": [
       "                         Cases  Current  Volume  Time    CO  CH4  C2H4    H2  \\\n",
       "22  13may_Brass_2M_0C_4.5_1.3V      298      23  45.0   3.9  0.7   4.4  37.0   \n",
       "23  13may_Brass_2M_0C_5.0_1.3V      375      23  45.0   3.2  1.3   4.2  41.2   \n",
       "24        14May_2M_1C_3.9_1.3V      100      23  45.0  10.4  0.0   4.7  23.0   \n",
       "25        14May_2M_1C_4.3_1.3V      165      23  47.5   8.2  0.7   7.8  21.9   \n",
       "26           14May_1M_4.5_1.3V      264      23  45.0   5.2  2.5  14.3  15.2   \n",
       "\n",
       "      Formal     Formic    Acetic  Acetal     Mt-ol      Et-ol   Acetone  \\\n",
       "22  0.000000  14.673315  0.176521       0  0.860540   4.302701  0.126086   \n",
       "23  0.043836  12.361771  0.280551       0  0.867954   4.997312  0.000000   \n",
       "24  0.000000  30.575658  0.000000       0  0.789049   3.945246  0.000000   \n",
       "25  0.094384  27.748861  0.453043       0  1.585649  12.458672  0.000000   \n",
       "26  0.000000  20.797226  0.697392       0  1.980095  15.691320  0.426975   \n",
       "\n",
       "     2-Pr-ol   1-Pr-ol  \n",
       "22  0.000000  1.489397  \n",
       "23  0.000000  1.380836  \n",
       "24  0.000000  1.479467  \n",
       "25  4.854028  4.247275  \n",
       "26  8.005776  4.203032  "
      ]
     },
     "execution_count": 26,
     "metadata": {},
     "output_type": "execute_result"
    }
   ],
   "source": [
    "file_path = r'/home/ameya/Projects/ccs/data/LP_Quantification_Ameya.xlsx'\n",
    "\n",
    "import pandas as pd\n",
    "df = pd.read_excel(file_path, header=1)\n",
    "df.tail()"
   ]
  },
  {
   "cell_type": "markdown",
   "metadata": {},
   "source": [
    "# Basic Function"
   ]
  },
  {
   "cell_type": "markdown",
   "metadata": {},
   "source": [
    "Sort"
   ]
  },
  {
   "cell_type": "code",
   "execution_count": 46,
   "metadata": {},
   "outputs": [
    {
     "data": {
      "text/html": [
       "<div>\n",
       "<style scoped>\n",
       "    .dataframe tbody tr th:only-of-type {\n",
       "        vertical-align: middle;\n",
       "    }\n",
       "\n",
       "    .dataframe tbody tr th {\n",
       "        vertical-align: top;\n",
       "    }\n",
       "\n",
       "    .dataframe thead th {\n",
       "        text-align: right;\n",
       "    }\n",
       "</style>\n",
       "<table border=\"1\" class=\"dataframe\">\n",
       "  <thead>\n",
       "    <tr style=\"text-align: right;\">\n",
       "      <th></th>\n",
       "      <th>Cases</th>\n",
       "      <th>Current</th>\n",
       "      <th>Volume</th>\n",
       "      <th>Time</th>\n",
       "      <th>CO</th>\n",
       "      <th>CH4</th>\n",
       "      <th>C2H4</th>\n",
       "      <th>H2</th>\n",
       "      <th>Formal</th>\n",
       "      <th>Formic</th>\n",
       "      <th>Acetic</th>\n",
       "      <th>Acetal</th>\n",
       "      <th>Mt-ol</th>\n",
       "      <th>Et-ol</th>\n",
       "      <th>Acetone</th>\n",
       "      <th>2-Pr-ol</th>\n",
       "      <th>1-Pr-ol</th>\n",
       "    </tr>\n",
       "  </thead>\n",
       "  <tbody>\n",
       "    <tr>\n",
       "      <th>14</th>\n",
       "      <td>22Apr_3M_4.3_1.3V</td>\n",
       "      <td>1200</td>\n",
       "      <td>35</td>\n",
       "      <td>45.0</td>\n",
       "      <td>2.9</td>\n",
       "      <td>4.0</td>\n",
       "      <td>9.0</td>\n",
       "      <td>23.4</td>\n",
       "      <td>0.083384</td>\n",
       "      <td>0.000000</td>\n",
       "      <td>0.433596</td>\n",
       "      <td>0</td>\n",
       "      <td>1.513416</td>\n",
       "      <td>14.383710</td>\n",
       "      <td>0.190592</td>\n",
       "      <td>1.608117</td>\n",
       "      <td>1.876136</td>\n",
       "    </tr>\n",
       "    <tr>\n",
       "      <th>13</th>\n",
       "      <td>22Apr_3M_3.9_1.3V</td>\n",
       "      <td>1180</td>\n",
       "      <td>35</td>\n",
       "      <td>45.0</td>\n",
       "      <td>5.1</td>\n",
       "      <td>5.2</td>\n",
       "      <td>12.3</td>\n",
       "      <td>12.4</td>\n",
       "      <td>0.063598</td>\n",
       "      <td>0.000000</td>\n",
       "      <td>0.440945</td>\n",
       "      <td>0</td>\n",
       "      <td>1.322835</td>\n",
       "      <td>12.973958</td>\n",
       "      <td>0.145366</td>\n",
       "      <td>0.000000</td>\n",
       "      <td>1.717142</td>\n",
       "    </tr>\n",
       "    <tr>\n",
       "      <th>18</th>\n",
       "      <td>8May_2M_1C_5.0_1.3V</td>\n",
       "      <td>600</td>\n",
       "      <td>23</td>\n",
       "      <td>38.0</td>\n",
       "      <td>2.5</td>\n",
       "      <td>3.5</td>\n",
       "      <td>13.2</td>\n",
       "      <td>35.5</td>\n",
       "      <td>0.032444</td>\n",
       "      <td>0.000000</td>\n",
       "      <td>0.726756</td>\n",
       "      <td>0</td>\n",
       "      <td>2.920001</td>\n",
       "      <td>2.530668</td>\n",
       "      <td>0.222476</td>\n",
       "      <td>2.502858</td>\n",
       "      <td>2.628001</td>\n",
       "    </tr>\n",
       "    <tr>\n",
       "      <th>11</th>\n",
       "      <td>19Apr_2M_0C_4.3_1.3V</td>\n",
       "      <td>430</td>\n",
       "      <td>35</td>\n",
       "      <td>45.0</td>\n",
       "      <td>5.1</td>\n",
       "      <td>5.2</td>\n",
       "      <td>12.3</td>\n",
       "      <td>12.4</td>\n",
       "      <td>0.232699</td>\n",
       "      <td>16.637982</td>\n",
       "      <td>0.465398</td>\n",
       "      <td>0</td>\n",
       "      <td>1.151860</td>\n",
       "      <td>8.377166</td>\n",
       "      <td>0.000000</td>\n",
       "      <td>0.000000</td>\n",
       "      <td>1.832505</td>\n",
       "    </tr>\n",
       "    <tr>\n",
       "      <th>17</th>\n",
       "      <td>8May_2M_1C_4.5_1.3V</td>\n",
       "      <td>400</td>\n",
       "      <td>23</td>\n",
       "      <td>52.3</td>\n",
       "      <td>4.4</td>\n",
       "      <td>2.6</td>\n",
       "      <td>12.4</td>\n",
       "      <td>27.4</td>\n",
       "      <td>0.388961</td>\n",
       "      <td>7.425625</td>\n",
       "      <td>0.622338</td>\n",
       "      <td>0</td>\n",
       "      <td>2.736873</td>\n",
       "      <td>21.428231</td>\n",
       "      <td>0.242469</td>\n",
       "      <td>3.637041</td>\n",
       "      <td>3.659772</td>\n",
       "    </tr>\n",
       "    <tr>\n",
       "      <th>23</th>\n",
       "      <td>13may_Brass_2M_0C_5.0_1.3V</td>\n",
       "      <td>375</td>\n",
       "      <td>23</td>\n",
       "      <td>45.0</td>\n",
       "      <td>3.2</td>\n",
       "      <td>1.3</td>\n",
       "      <td>4.2</td>\n",
       "      <td>41.2</td>\n",
       "      <td>0.043836</td>\n",
       "      <td>12.361771</td>\n",
       "      <td>0.280551</td>\n",
       "      <td>0</td>\n",
       "      <td>0.867954</td>\n",
       "      <td>4.997312</td>\n",
       "      <td>0.000000</td>\n",
       "      <td>0.000000</td>\n",
       "      <td>1.380836</td>\n",
       "    </tr>\n",
       "    <tr>\n",
       "      <th>12</th>\n",
       "      <td>22Apr_2M_4.3_1.3V</td>\n",
       "      <td>330</td>\n",
       "      <td>35</td>\n",
       "      <td>45.0</td>\n",
       "      <td>3.9</td>\n",
       "      <td>7.6</td>\n",
       "      <td>13.5</td>\n",
       "      <td>14.4</td>\n",
       "      <td>0.075803</td>\n",
       "      <td>11.370522</td>\n",
       "      <td>0.727713</td>\n",
       "      <td>0</td>\n",
       "      <td>2.274104</td>\n",
       "      <td>15.918731</td>\n",
       "      <td>0.519795</td>\n",
       "      <td>3.898465</td>\n",
       "      <td>2.387810</td>\n",
       "    </tr>\n",
       "    <tr>\n",
       "      <th>10</th>\n",
       "      <td>19Apr_2M_0C_4.3_1.3V</td>\n",
       "      <td>330</td>\n",
       "      <td>35</td>\n",
       "      <td>45.0</td>\n",
       "      <td>5.1</td>\n",
       "      <td>5.2</td>\n",
       "      <td>12.3</td>\n",
       "      <td>12.4</td>\n",
       "      <td>0.303214</td>\n",
       "      <td>16.070338</td>\n",
       "      <td>0.848999</td>\n",
       "      <td>0</td>\n",
       "      <td>1.637355</td>\n",
       "      <td>13.189805</td>\n",
       "      <td>0.519795</td>\n",
       "      <td>0.000000</td>\n",
       "      <td>3.070041</td>\n",
       "    </tr>\n",
       "    <tr>\n",
       "      <th>16</th>\n",
       "      <td>8May_2M_1C_4.3_1.3V</td>\n",
       "      <td>300</td>\n",
       "      <td>23</td>\n",
       "      <td>50.0</td>\n",
       "      <td>7.0</td>\n",
       "      <td>1.9</td>\n",
       "      <td>12.0</td>\n",
       "      <td>30.0</td>\n",
       "      <td>0.000000</td>\n",
       "      <td>0.000000</td>\n",
       "      <td>1.025764</td>\n",
       "      <td>0</td>\n",
       "      <td>3.343596</td>\n",
       "      <td>23.967371</td>\n",
       "      <td>0.338164</td>\n",
       "      <td>0.000000</td>\n",
       "      <td>4.216482</td>\n",
       "    </tr>\n",
       "    <tr>\n",
       "      <th>22</th>\n",
       "      <td>13may_Brass_2M_0C_4.5_1.3V</td>\n",
       "      <td>298</td>\n",
       "      <td>23</td>\n",
       "      <td>45.0</td>\n",
       "      <td>3.9</td>\n",
       "      <td>0.7</td>\n",
       "      <td>4.4</td>\n",
       "      <td>37.0</td>\n",
       "      <td>0.000000</td>\n",
       "      <td>14.673315</td>\n",
       "      <td>0.176521</td>\n",
       "      <td>0</td>\n",
       "      <td>0.860540</td>\n",
       "      <td>4.302701</td>\n",
       "      <td>0.126086</td>\n",
       "      <td>0.000000</td>\n",
       "      <td>1.489397</td>\n",
       "    </tr>\n",
       "    <tr>\n",
       "      <th>26</th>\n",
       "      <td>14May_1M_4.5_1.3V</td>\n",
       "      <td>264</td>\n",
       "      <td>23</td>\n",
       "      <td>45.0</td>\n",
       "      <td>5.2</td>\n",
       "      <td>2.5</td>\n",
       "      <td>14.3</td>\n",
       "      <td>15.2</td>\n",
       "      <td>0.000000</td>\n",
       "      <td>20.797226</td>\n",
       "      <td>0.697392</td>\n",
       "      <td>0</td>\n",
       "      <td>1.980095</td>\n",
       "      <td>15.691320</td>\n",
       "      <td>0.426975</td>\n",
       "      <td>8.005776</td>\n",
       "      <td>4.203032</td>\n",
       "    </tr>\n",
       "    <tr>\n",
       "      <th>21</th>\n",
       "      <td>13may_Brass_2M_0C_4.3_1.3V</td>\n",
       "      <td>230</td>\n",
       "      <td>23</td>\n",
       "      <td>45.0</td>\n",
       "      <td>4.6</td>\n",
       "      <td>0.9</td>\n",
       "      <td>4.0</td>\n",
       "      <td>34.0</td>\n",
       "      <td>0.000000</td>\n",
       "      <td>20.440950</td>\n",
       "      <td>0.343065</td>\n",
       "      <td>0</td>\n",
       "      <td>1.672441</td>\n",
       "      <td>4.717142</td>\n",
       "      <td>0.000000</td>\n",
       "      <td>0.000000</td>\n",
       "      <td>1.929740</td>\n",
       "    </tr>\n",
       "    <tr>\n",
       "      <th>4</th>\n",
       "      <td>16Apr_0.5mM HCL</td>\n",
       "      <td>206</td>\n",
       "      <td>35</td>\n",
       "      <td>60.0</td>\n",
       "      <td>2.7</td>\n",
       "      <td>5.7</td>\n",
       "      <td>13.3</td>\n",
       "      <td>11.4</td>\n",
       "      <td>0.182149</td>\n",
       "      <td>18.032765</td>\n",
       "      <td>1.020035</td>\n",
       "      <td>0</td>\n",
       "      <td>3.005461</td>\n",
       "      <td>23.497239</td>\n",
       "      <td>1.040852</td>\n",
       "      <td>0.000000</td>\n",
       "      <td>4.508191</td>\n",
       "    </tr>\n",
       "    <tr>\n",
       "      <th>15</th>\n",
       "      <td>8May_2M_1C_3.9_1.3V</td>\n",
       "      <td>200</td>\n",
       "      <td>23</td>\n",
       "      <td>120.0</td>\n",
       "      <td>6.3</td>\n",
       "      <td>0.0</td>\n",
       "      <td>4.6</td>\n",
       "      <td>13.4</td>\n",
       "      <td>0.061644</td>\n",
       "      <td>11.712450</td>\n",
       "      <td>1.035627</td>\n",
       "      <td>0</td>\n",
       "      <td>4.308949</td>\n",
       "      <td>31.438681</td>\n",
       "      <td>0.352254</td>\n",
       "      <td>0.000000</td>\n",
       "      <td>5.686703</td>\n",
       "    </tr>\n",
       "    <tr>\n",
       "      <th>1</th>\n",
       "      <td>17Apr_0.05M_KHCO3</td>\n",
       "      <td>187</td>\n",
       "      <td>35</td>\n",
       "      <td>60.0</td>\n",
       "      <td>2.8</td>\n",
       "      <td>16.2</td>\n",
       "      <td>12.6</td>\n",
       "      <td>11.5</td>\n",
       "      <td>0.601969</td>\n",
       "      <td>11.036095</td>\n",
       "      <td>1.123675</td>\n",
       "      <td>0</td>\n",
       "      <td>2.227285</td>\n",
       "      <td>14.447251</td>\n",
       "      <td>0.687964</td>\n",
       "      <td>0.000000</td>\n",
       "      <td>3.611813</td>\n",
       "    </tr>\n",
       "    <tr>\n",
       "      <th>2</th>\n",
       "      <td>17Apr_0.1M_KHCO3</td>\n",
       "      <td>180</td>\n",
       "      <td>35</td>\n",
       "      <td>60.0</td>\n",
       "      <td>2.7</td>\n",
       "      <td>21.5</td>\n",
       "      <td>9.7</td>\n",
       "      <td>11.0</td>\n",
       "      <td>0.729608</td>\n",
       "      <td>10.214519</td>\n",
       "      <td>1.000606</td>\n",
       "      <td>0</td>\n",
       "      <td>2.126288</td>\n",
       "      <td>16.885225</td>\n",
       "      <td>0.714719</td>\n",
       "      <td>0.000000</td>\n",
       "      <td>2.345170</td>\n",
       "    </tr>\n",
       "    <tr>\n",
       "      <th>3</th>\n",
       "      <td>17Apr_0.2M_KHCO3</td>\n",
       "      <td>180</td>\n",
       "      <td>35</td>\n",
       "      <td>60.0</td>\n",
       "      <td>2.2</td>\n",
       "      <td>19.5</td>\n",
       "      <td>6.4</td>\n",
       "      <td>13.8</td>\n",
       "      <td>0.104230</td>\n",
       "      <td>7.713004</td>\n",
       "      <td>0.667071</td>\n",
       "      <td>0</td>\n",
       "      <td>1.563447</td>\n",
       "      <td>11.882195</td>\n",
       "      <td>0.717101</td>\n",
       "      <td>0.000000</td>\n",
       "      <td>2.345170</td>\n",
       "    </tr>\n",
       "    <tr>\n",
       "      <th>5</th>\n",
       "      <td>16Apr_1mM HCL</td>\n",
       "      <td>165</td>\n",
       "      <td>35</td>\n",
       "      <td>60.0</td>\n",
       "      <td>2.7</td>\n",
       "      <td>6.8</td>\n",
       "      <td>12.0</td>\n",
       "      <td>10.2</td>\n",
       "      <td>2.160399</td>\n",
       "      <td>13.417216</td>\n",
       "      <td>0.909642</td>\n",
       "      <td>0</td>\n",
       "      <td>2.456033</td>\n",
       "      <td>18.420245</td>\n",
       "      <td>0.779693</td>\n",
       "      <td>0.000000</td>\n",
       "      <td>2.046694</td>\n",
       "    </tr>\n",
       "    <tr>\n",
       "      <th>6</th>\n",
       "      <td>16Apr_2mM HCL</td>\n",
       "      <td>165</td>\n",
       "      <td>35</td>\n",
       "      <td>60.0</td>\n",
       "      <td>2.6</td>\n",
       "      <td>8.3</td>\n",
       "      <td>13.0</td>\n",
       "      <td>10.4</td>\n",
       "      <td>0.341116</td>\n",
       "      <td>12.962395</td>\n",
       "      <td>1.091570</td>\n",
       "      <td>0</td>\n",
       "      <td>2.728925</td>\n",
       "      <td>23.878096</td>\n",
       "      <td>1.039591</td>\n",
       "      <td>0.000000</td>\n",
       "      <td>3.070041</td>\n",
       "    </tr>\n",
       "    <tr>\n",
       "      <th>25</th>\n",
       "      <td>14May_2M_1C_4.3_1.3V</td>\n",
       "      <td>165</td>\n",
       "      <td>23</td>\n",
       "      <td>47.5</td>\n",
       "      <td>8.2</td>\n",
       "      <td>0.7</td>\n",
       "      <td>7.8</td>\n",
       "      <td>21.9</td>\n",
       "      <td>0.094384</td>\n",
       "      <td>27.748861</td>\n",
       "      <td>0.453043</td>\n",
       "      <td>0</td>\n",
       "      <td>1.585649</td>\n",
       "      <td>12.458672</td>\n",
       "      <td>0.000000</td>\n",
       "      <td>4.854028</td>\n",
       "      <td>4.247275</td>\n",
       "    </tr>\n",
       "    <tr>\n",
       "      <th>7</th>\n",
       "      <td>16Apr_4mM HCL</td>\n",
       "      <td>160</td>\n",
       "      <td>35</td>\n",
       "      <td>60.0</td>\n",
       "      <td>3.0</td>\n",
       "      <td>10.2</td>\n",
       "      <td>13.3</td>\n",
       "      <td>9.4</td>\n",
       "      <td>0.117259</td>\n",
       "      <td>11.256817</td>\n",
       "      <td>1.125682</td>\n",
       "      <td>0</td>\n",
       "      <td>2.884559</td>\n",
       "      <td>22.513633</td>\n",
       "      <td>1.072078</td>\n",
       "      <td>0.000000</td>\n",
       "      <td>3.165980</td>\n",
       "    </tr>\n",
       "    <tr>\n",
       "      <th>20</th>\n",
       "      <td>13may_Brass_2M_0C_4.1_1.3V</td>\n",
       "      <td>153</td>\n",
       "      <td>23</td>\n",
       "      <td>45.0</td>\n",
       "      <td>5.1</td>\n",
       "      <td>0.0</td>\n",
       "      <td>1.6</td>\n",
       "      <td>36.0</td>\n",
       "      <td>0.000000</td>\n",
       "      <td>16.545967</td>\n",
       "      <td>0.171906</td>\n",
       "      <td>0</td>\n",
       "      <td>0.773578</td>\n",
       "      <td>1.289296</td>\n",
       "      <td>0.000000</td>\n",
       "      <td>0.000000</td>\n",
       "      <td>0.966972</td>\n",
       "    </tr>\n",
       "    <tr>\n",
       "      <th>8</th>\n",
       "      <td>16Apr_5mM HCL</td>\n",
       "      <td>150</td>\n",
       "      <td>35</td>\n",
       "      <td>60.0</td>\n",
       "      <td>3.1</td>\n",
       "      <td>10.5</td>\n",
       "      <td>15.1</td>\n",
       "      <td>8.9</td>\n",
       "      <td>2.626591</td>\n",
       "      <td>12.257423</td>\n",
       "      <td>1.200727</td>\n",
       "      <td>0</td>\n",
       "      <td>2.776681</td>\n",
       "      <td>21.012724</td>\n",
       "      <td>0.857662</td>\n",
       "      <td>0.000000</td>\n",
       "      <td>2.251363</td>\n",
       "    </tr>\n",
       "    <tr>\n",
       "      <th>9</th>\n",
       "      <td>16Apr_10mM HCL</td>\n",
       "      <td>150</td>\n",
       "      <td>35</td>\n",
       "      <td>45.5</td>\n",
       "      <td>2.6</td>\n",
       "      <td>8.6</td>\n",
       "      <td>13.7</td>\n",
       "      <td>7.7</td>\n",
       "      <td>0.494805</td>\n",
       "      <td>9.566232</td>\n",
       "      <td>1.583376</td>\n",
       "      <td>0</td>\n",
       "      <td>2.671948</td>\n",
       "      <td>20.781815</td>\n",
       "      <td>1.130983</td>\n",
       "      <td>0.000000</td>\n",
       "      <td>1.484415</td>\n",
       "    </tr>\n",
       "    <tr>\n",
       "      <th>0</th>\n",
       "      <td>17Apr_0.025M_KHCO3</td>\n",
       "      <td>145</td>\n",
       "      <td>35</td>\n",
       "      <td>60.0</td>\n",
       "      <td>3.1</td>\n",
       "      <td>8.4</td>\n",
       "      <td>12.0</td>\n",
       "      <td>11.2</td>\n",
       "      <td>0.258777</td>\n",
       "      <td>17.338085</td>\n",
       "      <td>0.414044</td>\n",
       "      <td>0</td>\n",
       "      <td>1.319765</td>\n",
       "      <td>10.092318</td>\n",
       "      <td>0.591491</td>\n",
       "      <td>0.000000</td>\n",
       "      <td>3.493495</td>\n",
       "    </tr>\n",
       "    <tr>\n",
       "      <th>19</th>\n",
       "      <td>13may_Brass_2M_0C_3.9_1.3V</td>\n",
       "      <td>131</td>\n",
       "      <td>23</td>\n",
       "      <td>45.0</td>\n",
       "      <td>4.8</td>\n",
       "      <td>0.0</td>\n",
       "      <td>0.5</td>\n",
       "      <td>42.8</td>\n",
       "      <td>0.000000</td>\n",
       "      <td>13.803342</td>\n",
       "      <td>0.000000</td>\n",
       "      <td>0</td>\n",
       "      <td>0.527037</td>\n",
       "      <td>0.000000</td>\n",
       "      <td>0.000000</td>\n",
       "      <td>0.000000</td>\n",
       "      <td>0.000000</td>\n",
       "    </tr>\n",
       "    <tr>\n",
       "      <th>24</th>\n",
       "      <td>14May_2M_1C_3.9_1.3V</td>\n",
       "      <td>100</td>\n",
       "      <td>23</td>\n",
       "      <td>45.0</td>\n",
       "      <td>10.4</td>\n",
       "      <td>0.0</td>\n",
       "      <td>4.7</td>\n",
       "      <td>23.0</td>\n",
       "      <td>0.000000</td>\n",
       "      <td>30.575658</td>\n",
       "      <td>0.000000</td>\n",
       "      <td>0</td>\n",
       "      <td>0.789049</td>\n",
       "      <td>3.945246</td>\n",
       "      <td>0.000000</td>\n",
       "      <td>0.000000</td>\n",
       "      <td>1.479467</td>\n",
       "    </tr>\n",
       "  </tbody>\n",
       "</table>\n",
       "</div>"
      ],
      "text/plain": [
       "                         Cases  Current  Volume   Time    CO   CH4  C2H4  \\\n",
       "14           22Apr_3M_4.3_1.3V     1200      35   45.0   2.9   4.0   9.0   \n",
       "13           22Apr_3M_3.9_1.3V     1180      35   45.0   5.1   5.2  12.3   \n",
       "18         8May_2M_1C_5.0_1.3V      600      23   38.0   2.5   3.5  13.2   \n",
       "11        19Apr_2M_0C_4.3_1.3V      430      35   45.0   5.1   5.2  12.3   \n",
       "17         8May_2M_1C_4.5_1.3V      400      23   52.3   4.4   2.6  12.4   \n",
       "23  13may_Brass_2M_0C_5.0_1.3V      375      23   45.0   3.2   1.3   4.2   \n",
       "12           22Apr_2M_4.3_1.3V      330      35   45.0   3.9   7.6  13.5   \n",
       "10        19Apr_2M_0C_4.3_1.3V      330      35   45.0   5.1   5.2  12.3   \n",
       "16         8May_2M_1C_4.3_1.3V      300      23   50.0   7.0   1.9  12.0   \n",
       "22  13may_Brass_2M_0C_4.5_1.3V      298      23   45.0   3.9   0.7   4.4   \n",
       "26           14May_1M_4.5_1.3V      264      23   45.0   5.2   2.5  14.3   \n",
       "21  13may_Brass_2M_0C_4.3_1.3V      230      23   45.0   4.6   0.9   4.0   \n",
       "4              16Apr_0.5mM HCL      206      35   60.0   2.7   5.7  13.3   \n",
       "15         8May_2M_1C_3.9_1.3V      200      23  120.0   6.3   0.0   4.6   \n",
       "1            17Apr_0.05M_KHCO3      187      35   60.0   2.8  16.2  12.6   \n",
       "2             17Apr_0.1M_KHCO3      180      35   60.0   2.7  21.5   9.7   \n",
       "3             17Apr_0.2M_KHCO3      180      35   60.0   2.2  19.5   6.4   \n",
       "5                16Apr_1mM HCL      165      35   60.0   2.7   6.8  12.0   \n",
       "6                16Apr_2mM HCL      165      35   60.0   2.6   8.3  13.0   \n",
       "25        14May_2M_1C_4.3_1.3V      165      23   47.5   8.2   0.7   7.8   \n",
       "7                16Apr_4mM HCL      160      35   60.0   3.0  10.2  13.3   \n",
       "20  13may_Brass_2M_0C_4.1_1.3V      153      23   45.0   5.1   0.0   1.6   \n",
       "8                16Apr_5mM HCL      150      35   60.0   3.1  10.5  15.1   \n",
       "9               16Apr_10mM HCL      150      35   45.5   2.6   8.6  13.7   \n",
       "0           17Apr_0.025M_KHCO3      145      35   60.0   3.1   8.4  12.0   \n",
       "19  13may_Brass_2M_0C_3.9_1.3V      131      23   45.0   4.8   0.0   0.5   \n",
       "24        14May_2M_1C_3.9_1.3V      100      23   45.0  10.4   0.0   4.7   \n",
       "\n",
       "      H2    Formal     Formic    Acetic  Acetal     Mt-ol      Et-ol  \\\n",
       "14  23.4  0.083384   0.000000  0.433596       0  1.513416  14.383710   \n",
       "13  12.4  0.063598   0.000000  0.440945       0  1.322835  12.973958   \n",
       "18  35.5  0.032444   0.000000  0.726756       0  2.920001   2.530668   \n",
       "11  12.4  0.232699  16.637982  0.465398       0  1.151860   8.377166   \n",
       "17  27.4  0.388961   7.425625  0.622338       0  2.736873  21.428231   \n",
       "23  41.2  0.043836  12.361771  0.280551       0  0.867954   4.997312   \n",
       "12  14.4  0.075803  11.370522  0.727713       0  2.274104  15.918731   \n",
       "10  12.4  0.303214  16.070338  0.848999       0  1.637355  13.189805   \n",
       "16  30.0  0.000000   0.000000  1.025764       0  3.343596  23.967371   \n",
       "22  37.0  0.000000  14.673315  0.176521       0  0.860540   4.302701   \n",
       "26  15.2  0.000000  20.797226  0.697392       0  1.980095  15.691320   \n",
       "21  34.0  0.000000  20.440950  0.343065       0  1.672441   4.717142   \n",
       "4   11.4  0.182149  18.032765  1.020035       0  3.005461  23.497239   \n",
       "15  13.4  0.061644  11.712450  1.035627       0  4.308949  31.438681   \n",
       "1   11.5  0.601969  11.036095  1.123675       0  2.227285  14.447251   \n",
       "2   11.0  0.729608  10.214519  1.000606       0  2.126288  16.885225   \n",
       "3   13.8  0.104230   7.713004  0.667071       0  1.563447  11.882195   \n",
       "5   10.2  2.160399  13.417216  0.909642       0  2.456033  18.420245   \n",
       "6   10.4  0.341116  12.962395  1.091570       0  2.728925  23.878096   \n",
       "25  21.9  0.094384  27.748861  0.453043       0  1.585649  12.458672   \n",
       "7    9.4  0.117259  11.256817  1.125682       0  2.884559  22.513633   \n",
       "20  36.0  0.000000  16.545967  0.171906       0  0.773578   1.289296   \n",
       "8    8.9  2.626591  12.257423  1.200727       0  2.776681  21.012724   \n",
       "9    7.7  0.494805   9.566232  1.583376       0  2.671948  20.781815   \n",
       "0   11.2  0.258777  17.338085  0.414044       0  1.319765  10.092318   \n",
       "19  42.8  0.000000  13.803342  0.000000       0  0.527037   0.000000   \n",
       "24  23.0  0.000000  30.575658  0.000000       0  0.789049   3.945246   \n",
       "\n",
       "     Acetone   2-Pr-ol   1-Pr-ol  \n",
       "14  0.190592  1.608117  1.876136  \n",
       "13  0.145366  0.000000  1.717142  \n",
       "18  0.222476  2.502858  2.628001  \n",
       "11  0.000000  0.000000  1.832505  \n",
       "17  0.242469  3.637041  3.659772  \n",
       "23  0.000000  0.000000  1.380836  \n",
       "12  0.519795  3.898465  2.387810  \n",
       "10  0.519795  0.000000  3.070041  \n",
       "16  0.338164  0.000000  4.216482  \n",
       "22  0.126086  0.000000  1.489397  \n",
       "26  0.426975  8.005776  4.203032  \n",
       "21  0.000000  0.000000  1.929740  \n",
       "4   1.040852  0.000000  4.508191  \n",
       "15  0.352254  0.000000  5.686703  \n",
       "1   0.687964  0.000000  3.611813  \n",
       "2   0.714719  0.000000  2.345170  \n",
       "3   0.717101  0.000000  2.345170  \n",
       "5   0.779693  0.000000  2.046694  \n",
       "6   1.039591  0.000000  3.070041  \n",
       "25  0.000000  4.854028  4.247275  \n",
       "7   1.072078  0.000000  3.165980  \n",
       "20  0.000000  0.000000  0.966972  \n",
       "8   0.857662  0.000000  2.251363  \n",
       "9   1.130983  0.000000  1.484415  \n",
       "0   0.591491  0.000000  3.493495  \n",
       "19  0.000000  0.000000  0.000000  \n",
       "24  0.000000  0.000000  1.479467  "
      ]
     },
     "execution_count": 46,
     "metadata": {},
     "output_type": "execute_result"
    }
   ],
   "source": [
    "df.sort_values(by='Current', ascending=False)#['Cases'][0]"
   ]
  },
  {
   "cell_type": "markdown",
   "metadata": {},
   "source": [
    "Filter"
   ]
  },
  {
   "cell_type": "code",
   "execution_count": 4,
   "metadata": {},
   "outputs": [
    {
     "data": {
      "text/plain": [
       "Index(['Cases', 'Current', 'Volume', 'Time', 'CO', 'CH4', 'C2H4', 'H2',\n",
       "       'Formal', 'Formic', 'Acetic', 'Acetal', 'Mt-ol', 'Et-ol', 'Acetone',\n",
       "       '2-Pr-ol', '1-Pr-ol'],\n",
       "      dtype='object')"
      ]
     },
     "execution_count": 4,
     "metadata": {},
     "output_type": "execute_result"
    }
   ],
   "source": [
    "df.columns"
   ]
  },
  {
   "cell_type": "code",
   "execution_count": 34,
   "metadata": {},
   "outputs": [
    {
     "data": {
      "text/html": [
       "<div>\n",
       "<style scoped>\n",
       "    .dataframe tbody tr th:only-of-type {\n",
       "        vertical-align: middle;\n",
       "    }\n",
       "\n",
       "    .dataframe tbody tr th {\n",
       "        vertical-align: top;\n",
       "    }\n",
       "\n",
       "    .dataframe thead th {\n",
       "        text-align: right;\n",
       "    }\n",
       "</style>\n",
       "<table border=\"1\" class=\"dataframe\">\n",
       "  <thead>\n",
       "    <tr style=\"text-align: right;\">\n",
       "      <th></th>\n",
       "      <th>Cases</th>\n",
       "      <th>Current</th>\n",
       "      <th>Volume</th>\n",
       "      <th>Time</th>\n",
       "      <th>CO</th>\n",
       "      <th>Acetone</th>\n",
       "    </tr>\n",
       "  </thead>\n",
       "  <tbody>\n",
       "    <tr>\n",
       "      <th>0</th>\n",
       "      <td>17Apr_0.025M_KHCO3</td>\n",
       "      <td>145</td>\n",
       "      <td>35</td>\n",
       "      <td>60.0</td>\n",
       "      <td>3.1</td>\n",
       "      <td>0.591491</td>\n",
       "    </tr>\n",
       "    <tr>\n",
       "      <th>1</th>\n",
       "      <td>17Apr_0.05M_KHCO3</td>\n",
       "      <td>187</td>\n",
       "      <td>35</td>\n",
       "      <td>60.0</td>\n",
       "      <td>2.8</td>\n",
       "      <td>0.687964</td>\n",
       "    </tr>\n",
       "    <tr>\n",
       "      <th>2</th>\n",
       "      <td>17Apr_0.1M_KHCO3</td>\n",
       "      <td>180</td>\n",
       "      <td>35</td>\n",
       "      <td>60.0</td>\n",
       "      <td>2.7</td>\n",
       "      <td>0.714719</td>\n",
       "    </tr>\n",
       "    <tr>\n",
       "      <th>3</th>\n",
       "      <td>17Apr_0.2M_KHCO3</td>\n",
       "      <td>180</td>\n",
       "      <td>35</td>\n",
       "      <td>60.0</td>\n",
       "      <td>2.2</td>\n",
       "      <td>0.717101</td>\n",
       "    </tr>\n",
       "    <tr>\n",
       "      <th>4</th>\n",
       "      <td>16Apr_0.5mM HCL</td>\n",
       "      <td>206</td>\n",
       "      <td>35</td>\n",
       "      <td>60.0</td>\n",
       "      <td>2.7</td>\n",
       "      <td>1.040852</td>\n",
       "    </tr>\n",
       "  </tbody>\n",
       "</table>\n",
       "</div>"
      ],
      "text/plain": [
       "                Cases  Current  Volume  Time   CO   Acetone\n",
       "0  17Apr_0.025M_KHCO3      145      35  60.0  3.1  0.591491\n",
       "1   17Apr_0.05M_KHCO3      187      35  60.0  2.8  0.687964\n",
       "2    17Apr_0.1M_KHCO3      180      35  60.0  2.7  0.714719\n",
       "3    17Apr_0.2M_KHCO3      180      35  60.0  2.2  0.717101\n",
       "4     16Apr_0.5mM HCL      206      35  60.0  2.7  1.040852"
      ]
     },
     "execution_count": 34,
     "metadata": {},
     "output_type": "execute_result"
    }
   ],
   "source": [
    "df[['Cases', 'Current', 'Volume', 'Time', 'CO', 'Acetone']].head()"
   ]
  },
  {
   "cell_type": "markdown",
   "metadata": {},
   "source": [
    "Surface resonance Plots"
   ]
  },
  {
   "cell_type": "code",
   "execution_count": 6,
   "metadata": {},
   "outputs": [
    {
     "data": {
      "image/png": "[encoded data removed]",
      "text/plain": [
       "<Figure size 1200x600 with 1 Axes>"
      ]
     },
     "metadata": {},
     "output_type": "display_data"
    }
   ],
   "source": [
    "import matplotlib.pyplot as plt\n",
    "from mpl_toolkits.mplot3d import Axes3D\n",
    "\n",
    "# Sample data (replace with your actual data)\n",
    "x_coords = df['CO']\n",
    "y_coords = df['CH4']\n",
    "z_coords = df['H2']\n",
    "\n",
    "# Create a figure and a 3D Axes\n",
    "fig = plt.figure(figsize=(12, 6))\n",
    "ax = fig.add_subplot(111, projection='3d')\n",
    "\n",
    "# Plot points\n",
    "ax.scatter(x_coords, y_coords, z_coords, color='b', s=10, label='Points')\n",
    "\n",
    "# Set labels and title\n",
    "ax.set_xlabel('CO')\n",
    "ax.set_ylabel('CH4')\n",
    "ax.set_zlabel('H2')\n",
    "ax.set_title('3D Scatter Plot with Hyperplane')\n",
    "\n",
    "# Add gridlines\n",
    "ax.grid(True)\n",
    "\n",
    "# Add legend\n",
    "ax.legend()\n",
    "\n",
    "# Show plot\n",
    "plt.show()"
   ]
  },
  {
   "cell_type": "code",
   "execution_count": 13,
   "metadata": {},
   "outputs": [
    {
     "data": {
      "application/vnd.plotly.v1+json": {
       "config": {
        "plotlyServerURL": "https://plot.ly"
       },
       "data": [
        {
         "marker": {
          "color": "blue",
          "size": 5
         },
         "mode": "markers",
         "type": "scatter3d",
         "x": [
          3.1,
          2.8,
          2.7,
          2.2,
          2.7,
          2.7,
          2.6,
          3,
          3.1,
          2.6,
          5.1,
          5.1,
          3.9,
          5.1,
          2.9,
          6.3,
          7,
          4.4,
          2.5,
          4.8,
          5.1,
          4.6,
          3.9,
          3.2,
          10.4,
          8.2,
          5.2
         ],
         "y": [
          8.4,
          16.2,
          21.5,
          19.5,
          5.7,
          6.8,
          8.3,
          10.2,
          10.5,
          8.6,
          5.2,
          5.2,
          7.6,
          5.2,
          4,
          0,
          1.9,
          2.6,
          3.5,
          0,
          0,
          0.9,
          0.7,
          1.3,
          0,
          0.7,
          2.5
         ],
         "z": [
          11.2,
          11.5,
          11,
          13.8,
          11.4,
          10.2,
          10.4,
          9.4,
          8.9,
          7.7,
          12.4,
          12.4,
          14.4,
          12.4,
          23.4,
          13.4,
          30,
          27.4,
          35.5,
          42.8,
          36,
          34,
          37,
          41.2,
          23,
          21.9,
          15.2
         ]
        }
       ],
       "layout": {
        "scene": {
         "xaxis": {
          "title": {
           "text": "CO"
          }
         },
         "yaxis": {
          "title": {
           "text": "CH4"
          }
         },
         "zaxis": {
          "title": {
           "text": "H2"
          }
         }
        },
        "template": {
         "data": {
          "bar": [
           {
            "error_x": {
             "color": "#2a3f5f"
            },
            "error_y": {
             "color": "#2a3f5f"
            },
            "marker": {
             "line": {
              "color": "#E5ECF6",
              "width": 0.5
             },
             "pattern": {
              "fillmode": "overlay",
              "size": 10,
              "solidity": 0.2
             }
            },
            "type": "bar"
           }
          ],
          "barpolar": [
           {
            "marker": {
             "line": {
              "color": "#E5ECF6",
              "width": 0.5
             },
             "pattern": {
              "fillmode": "overlay",
              "size": 10,
              "solidity": 0.2
             }
            },
            "type": "barpolar"
           }
          ],
          "carpet": [
           {
            "aaxis": {
             "endlinecolor": "#2a3f5f",
             "gridcolor": "white",
             "linecolor": "white",
             "minorgridcolor": "white",
             "startlinecolor": "#2a3f5f"
            },
            "baxis": {
             "endlinecolor": "#2a3f5f",
             "gridcolor": "white",
             "linecolor": "white",
             "minorgridcolor": "white",
             "startlinecolor": "#2a3f5f"
            },
            "type": "carpet"
           }
          ],
          "choropleth": [
           {
            "colorbar": {
             "outlinewidth": 0,
             "ticks": ""
            },
            "type": "choropleth"
           }
          ],
          "contour": [
           {
            "colorbar": {
             "outlinewidth": 0,
             "ticks": ""
            },
            "colorscale": [
             [
              0,
              "#0d0887"
             ],
             [
              0.1111111111111111,
              "#46039f"
             ],
             [
              0.2222222222222222,
              "#7201a8"
             ],
             [
              0.3333333333333333,
              "#9c179e"
             ],
             [
              0.4444444444444444,
              "#bd3786"
             ],
             [
              0.5555555555555556,
              "#d8576b"
             ],
             [
              0.6666666666666666,
              "#ed7953"
             ],
             [
              0.7777777777777778,
              "#fb9f3a"
             ],
             [
              0.8888888888888888,
              "#fdca26"
             ],
             [
              1,
              "#f0f921"
             ]
            ],
            "type": "contour"
           }
          ],
          "contourcarpet": [
           {
            "colorbar": {
             "outlinewidth": 0,
             "ticks": ""
            },
            "type": "contourcarpet"
           }
          ],
          "heatmap": [
           {
            "colorbar": {
             "outlinewidth": 0,
             "ticks": ""
            },
            "colorscale": [
             [
              0,
              "#0d0887"
             ],
             [
              0.1111111111111111,
              "#46039f"
             ],
             [
              0.2222222222222222,
              "#7201a8"
             ],
             [
              0.3333333333333333,
              "#9c179e"
             ],
             [
              0.4444444444444444,
              "#bd3786"
             ],
             [
              0.5555555555555556,
              "#d8576b"
             ],
             [
              0.6666666666666666,
              "#ed7953"
             ],
             [
              0.7777777777777778,
              "#fb9f3a"
             ],
             [
              0.8888888888888888,
              "#fdca26"
             ],
             [
              1,
              "#f0f921"
             ]
            ],
            "type": "heatmap"
           }
          ],
          "heatmapgl": [
           {
            "colorbar": {
             "outlinewidth": 0,
             "ticks": ""
            },
            "colorscale": [
             [
              0,
              "#0d0887"
             ],
             [
              0.1111111111111111,
              "#46039f"
             ],
             [
              0.2222222222222222,
              "#7201a8"
             ],
             [
              0.3333333333333333,
              "#9c179e"
             ],
             [
              0.4444444444444444,
              "#bd3786"
             ],
             [
              0.5555555555555556,
              "#d8576b"
             ],
             [
              0.6666666666666666,
              "#ed7953"
             ],
             [
              0.7777777777777778,
              "#fb9f3a"
             ],
             [
              0.8888888888888888,
              "#fdca26"
             ],
             [
              1,
              "#f0f921"
             ]
            ],
            "type": "heatmapgl"
           }
          ],
          "histogram": [
           {
            "marker": {
             "pattern": {
              "fillmode": "overlay",
              "size": 10,
              "solidity": 0.2
             }
            },
            "type": "histogram"
           }
          ],
          "histogram2d": [
           {
            "colorbar": {
             "outlinewidth": 0,
             "ticks": ""
            },
            "colorscale": [
             [
              0,
              "#0d0887"
             ],
             [
              0.1111111111111111,
              "#46039f"
             ],
             [
              0.2222222222222222,
              "#7201a8"
             ],
             [
              0.3333333333333333,
              "#9c179e"
             ],
             [
              0.4444444444444444,
              "#bd3786"
             ],
             [
              0.5555555555555556,
              "#d8576b"
             ],
             [
              0.6666666666666666,
              "#ed7953"
             ],
             [
              0.7777777777777778,
              "#fb9f3a"
             ],
             [
              0.8888888888888888,
              "#fdca26"
             ],
             [
              1,
              "#f0f921"
             ]
            ],
            "type": "histogram2d"
           }
          ],
          "histogram2dcontour": [
           {
            "colorbar": {
             "outlinewidth": 0,
             "ticks": ""
            },
            "colorscale": [
             [
              0,
              "#0d0887"
             ],
             [
              0.1111111111111111,
              "#46039f"
             ],
             [
              0.2222222222222222,
              "#7201a8"
             ],
             [
              0.3333333333333333,
              "#9c179e"
             ],
             [
              0.4444444444444444,
              "#bd3786"
             ],
             [
              0.5555555555555556,
              "#d8576b"
             ],
             [
              0.6666666666666666,
              "#ed7953"
             ],
             [
              0.7777777777777778,
              "#fb9f3a"
             ],
             [
              0.8888888888888888,
              "#fdca26"
             ],
             [
              1,
              "#f0f921"
             ]
            ],
            "type": "histogram2dcontour"
           }
          ],
          "mesh3d": [
           {
            "colorbar": {
             "outlinewidth": 0,
             "ticks": ""
            },
            "type": "mesh3d"
           }
          ],
          "parcoords": [
           {
            "line": {
             "colorbar": {
              "outlinewidth": 0,
              "ticks": ""
             }
            },
            "type": "parcoords"
           }
          ],
          "pie": [
           {
            "automargin": true,
            "type": "pie"
           }
          ],
          "scatter": [
           {
            "fillpattern": {
             "fillmode": "overlay",
             "size": 10,
             "solidity": 0.2
            },
            "type": "scatter"
           }
          ],
          "scatter3d": [
           {
            "line": {
             "colorbar": {
              "outlinewidth": 0,
              "ticks": ""
             }
            },
            "marker": {
             "colorbar": {
              "outlinewidth": 0,
              "ticks": ""
             }
            },
            "type": "scatter3d"
           }
          ],
          "scattercarpet": [
           {
            "marker": {
             "colorbar": {
              "outlinewidth": 0,
              "ticks": ""
             }
            },
            "type": "scattercarpet"
           }
          ],
          "scattergeo": [
           {
            "marker": {
             "colorbar": {
              "outlinewidth": 0,
              "ticks": ""
             }
            },
            "type": "scattergeo"
           }
          ],
          "scattergl": [
           {
            "marker": {
             "colorbar": {
              "outlinewidth": 0,
              "ticks": ""
             }
            },
            "type": "scattergl"
           }
          ],
          "scattermapbox": [
           {
            "marker": {
             "colorbar": {
              "outlinewidth": 0,
              "ticks": ""
             }
            },
            "type": "scattermapbox"
           }
          ],
          "scatterpolar": [
           {
            "marker": {
             "colorbar": {
              "outlinewidth": 0,
              "ticks": ""
             }
            },
            "type": "scatterpolar"
           }
          ],
          "scatterpolargl": [
           {
            "marker": {
             "colorbar": {
              "outlinewidth": 0,
              "ticks": ""
             }
            },
            "type": "scatterpolargl"
           }
          ],
          "scatterternary": [
           {
            "marker": {
             "colorbar": {
              "outlinewidth": 0,
              "ticks": ""
             }
            },
            "type": "scatterternary"
           }
          ],
          "surface": [
           {
            "colorbar": {
             "outlinewidth": 0,
             "ticks": ""
            },
            "colorscale": [
             [
              0,
              "#0d0887"
             ],
             [
              0.1111111111111111,
              "#46039f"
             ],
             [
              0.2222222222222222,
              "#7201a8"
             ],
             [
              0.3333333333333333,
              "#9c179e"
             ],
             [
              0.4444444444444444,
              "#bd3786"
             ],
             [
              0.5555555555555556,
              "#d8576b"
             ],
             [
              0.6666666666666666,
              "#ed7953"
             ],
             [
              0.7777777777777778,
              "#fb9f3a"
             ],
             [
              0.8888888888888888,
              "#fdca26"
             ],
             [
              1,
              "#f0f921"
             ]
            ],
            "type": "surface"
           }
          ],
          "table": [
           {
            "cells": {
             "fill": {
              "color": "#EBF0F8"
             },
             "line": {
              "color": "white"
             }
            },
            "header": {
             "fill": {
              "color": "#C8D4E3"
             },
             "line": {
              "color": "white"
             }
            },
            "type": "table"
           }
          ]
         },
         "layout": {
          "annotationdefaults": {
           "arrowcolor": "#2a3f5f",
           "arrowhead": 0,
           "arrowwidth": 1
          },
          "autotypenumbers": "strict",
          "coloraxis": {
           "colorbar": {
            "outlinewidth": 0,
            "ticks": ""
           }
          },
          "colorscale": {
           "diverging": [
            [
             0,
             "#8e0152"
            ],
            [
             0.1,
             "#c51b7d"
            ],
            [
             0.2,
             "#de77ae"
            ],
            [
             0.3,
             "#f1b6da"
            ],
            [
             0.4,
             "#fde0ef"
            ],
            [
             0.5,
             "#f7f7f7"
            ],
            [
             0.6,
             "#e6f5d0"
            ],
            [
             0.7,
             "#b8e186"
            ],
            [
             0.8,
             "#7fbc41"
            ],
            [
             0.9,
             "#4d9221"
            ],
            [
             1,
             "#276419"
            ]
           ],
           "sequential": [
            [
             0,
             "#0d0887"
            ],
            [
             0.1111111111111111,
             "#46039f"
            ],
            [
             0.2222222222222222,
             "#7201a8"
            ],
            [
             0.3333333333333333,
             "#9c179e"
            ],
            [
             0.4444444444444444,
             "#bd3786"
            ],
            [
             0.5555555555555556,
             "#d8576b"
            ],
            [
             0.6666666666666666,
             "#ed7953"
            ],
            [
             0.7777777777777778,
             "#fb9f3a"
            ],
            [
             0.8888888888888888,
             "#fdca26"
            ],
            [
             1,
             "#f0f921"
            ]
           ],
           "sequentialminus": [
            [
             0,
             "#0d0887"
            ],
            [
             0.1111111111111111,
             "#46039f"
            ],
            [
             0.2222222222222222,
             "#7201a8"
            ],
            [
             0.3333333333333333,
             "#9c179e"
            ],
            [
             0.4444444444444444,
             "#bd3786"
            ],
            [
             0.5555555555555556,
             "#d8576b"
            ],
            [
             0.6666666666666666,
             "#ed7953"
            ],
            [
             0.7777777777777778,
             "#fb9f3a"
            ],
            [
             0.8888888888888888,
             "#fdca26"
            ],
            [
             1,
             "#f0f921"
            ]
           ]
          },
          "colorway": [
           "#636efa",
           "#EF553B",
           "#00cc96",
           "#ab63fa",
           "#FFA15A",
           "#19d3f3",
           "#FF6692",
           "#B6E880",
           "#FF97FF",
           "#FECB52"
          ],
          "font": {
           "color": "#2a3f5f"
          },
          "geo": {
           "bgcolor": "white",
           "lakecolor": "white",
           "landcolor": "#E5ECF6",
           "showlakes": true,
           "showland": true,
           "subunitcolor": "white"
          },
          "hoverlabel": {
           "align": "left"
          },
          "hovermode": "closest",
          "mapbox": {
           "style": "light"
          },
          "paper_bgcolor": "white",
          "plot_bgcolor": "#E5ECF6",
          "polar": {
           "angularaxis": {
            "gridcolor": "white",
            "linecolor": "white",
            "ticks": ""
           },
           "bgcolor": "#E5ECF6",
           "radialaxis": {
            "gridcolor": "white",
            "linecolor": "white",
            "ticks": ""
           }
          },
          "scene": {
           "xaxis": {
            "backgroundcolor": "#E5ECF6",
            "gridcolor": "white",
            "gridwidth": 2,
            "linecolor": "white",
            "showbackground": true,
            "ticks": "",
            "zerolinecolor": "white"
           },
           "yaxis": {
            "backgroundcolor": "#E5ECF6",
            "gridcolor": "white",
            "gridwidth": 2,
            "linecolor": "white",
            "showbackground": true,
            "ticks": "",
            "zerolinecolor": "white"
           },
           "zaxis": {
            "backgroundcolor": "#E5ECF6",
            "gridcolor": "white",
            "gridwidth": 2,
            "linecolor": "white",
            "showbackground": true,
            "ticks": "",
            "zerolinecolor": "white"
           }
          },
          "shapedefaults": {
           "line": {
            "color": "#2a3f5f"
           }
          },
          "ternary": {
           "aaxis": {
            "gridcolor": "white",
            "linecolor": "white",
            "ticks": ""
           },
           "baxis": {
            "gridcolor": "white",
            "linecolor": "white",
            "ticks": ""
           },
           "bgcolor": "#E5ECF6",
           "caxis": {
            "gridcolor": "white",
            "linecolor": "white",
            "ticks": ""
           }
          },
          "title": {
           "x": 0.05
          },
          "xaxis": {
           "automargin": true,
           "gridcolor": "white",
           "linecolor": "white",
           "ticks": "",
           "title": {
            "standoff": 15
           },
           "zerolinecolor": "white",
           "zerolinewidth": 2
          },
          "yaxis": {
           "automargin": true,
           "gridcolor": "white",
           "linecolor": "white",
           "ticks": "",
           "title": {
            "standoff": 15
           },
           "zerolinecolor": "white",
           "zerolinewidth": 2
          }
         }
        },
        "title": {
         "text": "3D Scatter Plot"
        }
       }
      },
      "text/html": [
       "<div>                            <div id=\"26163132-58ac-4edd-b07a-e85ed9541f61\" class=\"plotly-graph-div\" style=\"height:525px; width:100%;\"></div>            <script type=\"text/javascript\">                require([\"plotly\"], function(Plotly) {                    window.PLOTLYENV=window.PLOTLYENV || {};                                    if (document.getElementById(\"26163132-58ac-4edd-b07a-e85ed9541f61\")) {                    Plotly.newPlot(                        \"26163132-58ac-4edd-b07a-e85ed9541f61\",                        [{\"marker\":{\"color\":\"blue\",\"size\":5},\"mode\":\"markers\",\"x\":[3.1,2.8,2.7,2.2,2.7,2.7,2.6,3.0,3.1,2.6,5.1,5.1,3.9,5.1,2.9,6.3,7.0,4.4,2.5,4.8,5.1,4.6,3.9,3.2,10.4,8.2,5.2],\"y\":[8.4,16.2,21.5,19.5,5.7,6.8,8.3,10.2,10.5,8.6,5.2,5.2,7.6,5.2,4.0,0.0,1.9,2.6,3.5,0.0,0.0,0.9,0.7,1.3,0.0,0.7,2.5],\"z\":[11.2,11.5,11.0,13.8,11.4,10.2,10.4,9.4,8.9,7.7,12.4,12.4,14.4,12.4,23.4,13.4,30.0,27.4,35.5,42.8,36.0,34.0,37.0,41.2,23.0,21.9,15.2],\"type\":\"scatter3d\"}],                        {\"template\":{\"data\":{\"histogram2dcontour\":[{\"type\":\"histogram2dcontour\",\"colorbar\":{\"outlinewidth\":0,\"ticks\":\"\"},\"colorscale\":[[0.0,\"#0d0887\"],[0.1111111111111111,\"#46039f\"],[0.2222222222222222,\"#7201a8\"],[0.3333333333333333,\"#9c179e\"],[0.4444444444444444,\"#bd3786\"],[0.5555555555555556,\"#d8576b\"],[0.6666666666666666,\"#ed7953\"],[0.7777777777777778,\"#fb9f3a\"],[0.8888888888888888,\"#fdca26\"],[1.0,\"#f0f921\"]]}],\"choropleth\":[{\"type\":\"choropleth\",\"colorbar\":{\"outlinewidth\":0,\"ticks\":\"\"}}],\"histogram2d\":[{\"type\":\"histogram2d\",\"colorbar\":{\"outlinewidth\":0,\"ticks\":\"\"},\"colorscale\":[[0.0,\"#0d0887\"],[0.1111111111111111,\"#46039f\"],[0.2222222222222222,\"#7201a8\"],[0.3333333333333333,\"#9c179e\"],[0.4444444444444444,\"#bd3786\"],[0.5555555555555556,\"#d8576b\"],[0.6666666666666666,\"#ed7953\"],[0.7777777777777778,\"#fb9f3a\"],[0.8888888888888888,\"#fdca26\"],[1.0,\"#f0f921\"]]}],\"heatmap\":[{\"type\":\"heatmap\",\"colorbar\":{\"outlinewidth\":0,\"ticks\":\"\"},\"colorscale\":[[0.0,\"#0d0887\"],[0.1111111111111111,\"#46039f\"],[0.2222222222222222,\"#7201a8\"],[0.3333333333333333,\"#9c179e\"],[0.4444444444444444,\"#bd3786\"],[0.5555555555555556,\"#d8576b\"],[0.6666666666666666,\"#ed7953\"],[0.7777777777777778,\"#fb9f3a\"],[0.8888888888888888,\"#fdca26\"],[1.0,\"#f0f921\"]]}],\"heatmapgl\":[{\"type\":\"heatmapgl\",\"colorbar\":{\"outlinewidth\":0,\"ticks\":\"\"},\"colorscale\":[[0.0,\"#0d0887\"],[0.1111111111111111,\"#46039f\"],[0.2222222222222222,\"#7201a8\"],[0.3333333333333333,\"#9c179e\"],[0.4444444444444444,\"#bd3786\"],[0.5555555555555556,\"#d8576b\"],[0.6666666666666666,\"#ed7953\"],[0.7777777777777778,\"#fb9f3a\"],[0.8888888888888888,\"#fdca26\"],[1.0,\"#f0f921\"]]}],\"contourcarpet\":[{\"type\":\"contourcarpet\",\"colorbar\":{\"outlinewidth\":0,\"ticks\":\"\"}}],\"contour\":[{\"type\":\"contour\",\"colorbar\":{\"outlinewidth\":0,\"ticks\":\"\"},\"colorscale\":[[0.0,\"#0d0887\"],[0.1111111111111111,\"#46039f\"],[0.2222222222222222,\"#7201a8\"],[0.3333333333333333,\"#9c179e\"],[0.4444444444444444,\"#bd3786\"],[0.5555555555555556,\"#d8576b\"],[0.6666666666666666,\"#ed7953\"],[0.7777777777777778,\"#fb9f3a\"],[0.8888888888888888,\"#fdca26\"],[1.0,\"#f0f921\"]]}],\"surface\":[{\"type\":\"surface\",\"colorbar\":{\"outlinewidth\":0,\"ticks\":\"\"},\"colorscale\":[[0.0,\"#0d0887\"],[0.1111111111111111,\"#46039f\"],[0.2222222222222222,\"#7201a8\"],[0.3333333333333333,\"#9c179e\"],[0.4444444444444444,\"#bd3786\"],[0.5555555555555556,\"#d8576b\"],[0.6666666666666666,\"#ed7953\"],[0.7777777777777778,\"#fb9f3a\"],[0.8888888888888888,\"#fdca26\"],[1.0,\"#f0f921\"]]}],\"mesh3d\":[{\"type\":\"mesh3d\",\"colorbar\":{\"outlinewidth\":0,\"ticks\":\"\"}}],\"scatter\":[{\"fillpattern\":{\"fillmode\":\"overlay\",\"size\":10,\"solidity\":0.2},\"type\":\"scatter\"}],\"parcoords\":[{\"type\":\"parcoords\",\"line\":{\"colorbar\":{\"outlinewidth\":0,\"ticks\":\"\"}}}],\"scatterpolargl\":[{\"type\":\"scatterpolargl\",\"marker\":{\"colorbar\":{\"outlinewidth\":0,\"ticks\":\"\"}}}],\"bar\":[{\"error_x\":{\"color\":\"#2a3f5f\"},\"error_y\":{\"color\":\"#2a3f5f\"},\"marker\":{\"line\":{\"color\":\"#E5ECF6\",\"width\":0.5},\"pattern\":{\"fillmode\":\"overlay\",\"size\":10,\"solidity\":0.2}},\"type\":\"bar\"}],\"scattergeo\":[{\"type\":\"scattergeo\",\"marker\":{\"colorbar\":{\"outlinewidth\":0,\"ticks\":\"\"}}}],\"scatterpolar\":[{\"type\":\"scatterpolar\",\"marker\":{\"colorbar\":{\"outlinewidth\":0,\"ticks\":\"\"}}}],\"histogram\":[{\"marker\":{\"pattern\":{\"fillmode\":\"overlay\",\"size\":10,\"solidity\":0.2}},\"type\":\"histogram\"}],\"scattergl\":[{\"type\":\"scattergl\",\"marker\":{\"colorbar\":{\"outlinewidth\":0,\"ticks\":\"\"}}}],\"scatter3d\":[{\"type\":\"scatter3d\",\"line\":{\"colorbar\":{\"outlinewidth\":0,\"ticks\":\"\"}},\"marker\":{\"colorbar\":{\"outlinewidth\":0,\"ticks\":\"\"}}}],\"scattermapbox\":[{\"type\":\"scattermapbox\",\"marker\":{\"colorbar\":{\"outlinewidth\":0,\"ticks\":\"\"}}}],\"scatterternary\":[{\"type\":\"scatterternary\",\"marker\":{\"colorbar\":{\"outlinewidth\":0,\"ticks\":\"\"}}}],\"scattercarpet\":[{\"type\":\"scattercarpet\",\"marker\":{\"colorbar\":{\"outlinewidth\":0,\"ticks\":\"\"}}}],\"carpet\":[{\"aaxis\":{\"endlinecolor\":\"#2a3f5f\",\"gridcolor\":\"white\",\"linecolor\":\"white\",\"minorgridcolor\":\"white\",\"startlinecolor\":\"#2a3f5f\"},\"baxis\":{\"endlinecolor\":\"#2a3f5f\",\"gridcolor\":\"white\",\"linecolor\":\"white\",\"minorgridcolor\":\"white\",\"startlinecolor\":\"#2a3f5f\"},\"type\":\"carpet\"}],\"table\":[{\"cells\":{\"fill\":{\"color\":\"#EBF0F8\"},\"line\":{\"color\":\"white\"}},\"header\":{\"fill\":{\"color\":\"#C8D4E3\"},\"line\":{\"color\":\"white\"}},\"type\":\"table\"}],\"barpolar\":[{\"marker\":{\"line\":{\"color\":\"#E5ECF6\",\"width\":0.5},\"pattern\":{\"fillmode\":\"overlay\",\"size\":10,\"solidity\":0.2}},\"type\":\"barpolar\"}],\"pie\":[{\"automargin\":true,\"type\":\"pie\"}]},\"layout\":{\"autotypenumbers\":\"strict\",\"colorway\":[\"#636efa\",\"#EF553B\",\"#00cc96\",\"#ab63fa\",\"#FFA15A\",\"#19d3f3\",\"#FF6692\",\"#B6E880\",\"#FF97FF\",\"#FECB52\"],\"font\":{\"color\":\"#2a3f5f\"},\"hovermode\":\"closest\",\"hoverlabel\":{\"align\":\"left\"},\"paper_bgcolor\":\"white\",\"plot_bgcolor\":\"#E5ECF6\",\"polar\":{\"bgcolor\":\"#E5ECF6\",\"angularaxis\":{\"gridcolor\":\"white\",\"linecolor\":\"white\",\"ticks\":\"\"},\"radialaxis\":{\"gridcolor\":\"white\",\"linecolor\":\"white\",\"ticks\":\"\"}},\"ternary\":{\"bgcolor\":\"#E5ECF6\",\"aaxis\":{\"gridcolor\":\"white\",\"linecolor\":\"white\",\"ticks\":\"\"},\"baxis\":{\"gridcolor\":\"white\",\"linecolor\":\"white\",\"ticks\":\"\"},\"caxis\":{\"gridcolor\":\"white\",\"linecolor\":\"white\",\"ticks\":\"\"}},\"coloraxis\":{\"colorbar\":{\"outlinewidth\":0,\"ticks\":\"\"}},\"colorscale\":{\"sequential\":[[0.0,\"#0d0887\"],[0.1111111111111111,\"#46039f\"],[0.2222222222222222,\"#7201a8\"],[0.3333333333333333,\"#9c179e\"],[0.4444444444444444,\"#bd3786\"],[0.5555555555555556,\"#d8576b\"],[0.6666666666666666,\"#ed7953\"],[0.7777777777777778,\"#fb9f3a\"],[0.8888888888888888,\"#fdca26\"],[1.0,\"#f0f921\"]],\"sequentialminus\":[[0.0,\"#0d0887\"],[0.1111111111111111,\"#46039f\"],[0.2222222222222222,\"#7201a8\"],[0.3333333333333333,\"#9c179e\"],[0.4444444444444444,\"#bd3786\"],[0.5555555555555556,\"#d8576b\"],[0.6666666666666666,\"#ed7953\"],[0.7777777777777778,\"#fb9f3a\"],[0.8888888888888888,\"#fdca26\"],[1.0,\"#f0f921\"]],\"diverging\":[[0,\"#8e0152\"],[0.1,\"#c51b7d\"],[0.2,\"#de77ae\"],[0.3,\"#f1b6da\"],[0.4,\"#fde0ef\"],[0.5,\"#f7f7f7\"],[0.6,\"#e6f5d0\"],[0.7,\"#b8e186\"],[0.8,\"#7fbc41\"],[0.9,\"#4d9221\"],[1,\"#276419\"]]},\"xaxis\":{\"gridcolor\":\"white\",\"linecolor\":\"white\",\"ticks\":\"\",\"title\":{\"standoff\":15},\"zerolinecolor\":\"white\",\"automargin\":true,\"zerolinewidth\":2},\"yaxis\":{\"gridcolor\":\"white\",\"linecolor\":\"white\",\"ticks\":\"\",\"title\":{\"standoff\":15},\"zerolinecolor\":\"white\",\"automargin\":true,\"zerolinewidth\":2},\"scene\":{\"xaxis\":{\"backgroundcolor\":\"#E5ECF6\",\"gridcolor\":\"white\",\"linecolor\":\"white\",\"showbackground\":true,\"ticks\":\"\",\"zerolinecolor\":\"white\",\"gridwidth\":2},\"yaxis\":{\"backgroundcolor\":\"#E5ECF6\",\"gridcolor\":\"white\",\"linecolor\":\"white\",\"showbackground\":true,\"ticks\":\"\",\"zerolinecolor\":\"white\",\"gridwidth\":2},\"zaxis\":{\"backgroundcolor\":\"#E5ECF6\",\"gridcolor\":\"white\",\"linecolor\":\"white\",\"showbackground\":true,\"ticks\":\"\",\"zerolinecolor\":\"white\",\"gridwidth\":2}},\"shapedefaults\":{\"line\":{\"color\":\"#2a3f5f\"}},\"annotationdefaults\":{\"arrowcolor\":\"#2a3f5f\",\"arrowhead\":0,\"arrowwidth\":1},\"geo\":{\"bgcolor\":\"white\",\"landcolor\":\"#E5ECF6\",\"subunitcolor\":\"white\",\"showland\":true,\"showlakes\":true,\"lakecolor\":\"white\"},\"title\":{\"x\":0.05},\"mapbox\":{\"style\":\"light\"}}},\"title\":{\"text\":\"3D Scatter Plot\"},\"scene\":{\"xaxis\":{\"title\":{\"text\":\"CO\"}},\"yaxis\":{\"title\":{\"text\":\"CH4\"}},\"zaxis\":{\"title\":{\"text\":\"H2\"}}}},                        {\"responsive\": true}                    ).then(function(){\n",
       "                            \n",
       "var gd = document.getElementById('26163132-58ac-4edd-b07a-e85ed9541f61');\n",
       "var x = new MutationObserver(function (mutations, observer) {{\n",
       "        var display = window.getComputedStyle(gd).display;\n",
       "        if (!display || display === 'none') {{\n",
       "            console.log([gd, 'removed!']);\n",
       "            Plotly.purge(gd);\n",
       "            observer.disconnect();\n",
       "        }}\n",
       "}});\n",
       "\n",
       "// Listen for the removal of the full notebook cells\n",
       "var notebookContainer = gd.closest('#notebook-container');\n",
       "if (notebookContainer) {{\n",
       "    x.observe(notebookContainer, {childList: true});\n",
       "}}\n",
       "\n",
       "// Listen for the clearing of the current output cell\n",
       "var outputEl = gd.closest('.output');\n",
       "if (outputEl) {{\n",
       "    x.observe(outputEl, {childList: true});\n",
       "}}\n",
       "\n",
       "                        })                };                });            </script>        </div>"
      ]
     },
     "metadata": {},
     "output_type": "display_data"
    }
   ],
   "source": [
    "import plotly.graph_objects as go\n",
    "\n",
    "# Sample data\n",
    "x = df['CO']\n",
    "y = df['CH4']\n",
    "z = df['H2']\n",
    "\n",
    "# Create a 3D scatter plot\n",
    "fig = go.Figure(data=[go.Scatter3d(x=x, y=y, z=z, mode='markers', marker=dict(size=5, color='blue'))])\n",
    "\n",
    "# Set plot title and axis labels\n",
    "fig.update_layout(title='3D Scatter Plot',\n",
    "                  scene=dict(\n",
    "                      xaxis_title='CO',\n",
    "                      yaxis_title='CH4',\n",
    "                      zaxis_title='H2'))\n",
    "\n",
    "# Show the plot\n",
    "fig.show()\n"
   ]
  },
  {
   "cell_type": "markdown",
   "metadata": {},
   "source": [
    "Bar Plots"
   ]
  },
  {
   "cell_type": "code",
   "execution_count": 35,
   "metadata": {},
   "outputs": [
    {
     "data": {
      "image/png": "[encoded data removed]",
      "text/plain": [
       "<Figure size 2000x1000 with 1 Axes>"
      ]
     },
     "metadata": {},
     "output_type": "display_data"
    }
   ],
   "source": [
    "import matplotlib.pyplot as plt\n",
    "\n",
    "# Sample data (replace with your actual data)\n",
    "categories = df['Cases'][:25]\n",
    "segment1 = df['CO'][:25]\n",
    "segment2 = df['CH4'][:25]\n",
    "segment3 = df['H2'][:25]\n",
    "\n",
    "# Calculate bottom positions for segments\n",
    "bottom_segment2 = [segment1[i] for i in range(len(segment1))]\n",
    "bottom_segment3 = [segment1[i] + segment2[i] for i in range(len(segment1))]\n",
    "\n",
    "# Create figure and axis\n",
    "fig, ax = plt.subplots(figsize=(20, 10))\n",
    "\n",
    "# Plot each segment\n",
    "ax.bar(categories, segment1, label='CO')\n",
    "ax.bar(categories, segment2, bottom=bottom_segment2, label='CH4')\n",
    "ax.bar(categories, segment3, bottom=bottom_segment3, label='H2')\n",
    "\n",
    "plt.xticks(rotation=90)\n",
    "# Add labels and title\n",
    "ax.set_xlabel('Cases')\n",
    "ax.set_ylabel('Values')\n",
    "ax.set_title('Stacked Bar Plot with Segments')\n",
    "ax.legend()\n",
    "\n",
    "# Show plot\n",
    "plt.tight_layout()\n",
    "plt.show()"
   ]
  },
  {
   "cell_type": "code",
   "execution_count": 36,
   "metadata": {},
   "outputs": [
    {
     "data": {
      "image/png": "[encoded data removed]",
      "text/plain": [
       "<Figure size 640x480 with 1 Axes>"
      ]
     },
     "metadata": {},
     "output_type": "display_data"
    }
   ],
   "source": [
    "import matplotlib.pyplot as plt\n",
    "import numpy as np\n",
    "\n",
    "# Sample data\n",
    "categories = ['A', 'B', 'C', 'D']\n",
    "subcategories = ['Sub1', 'Sub2', 'Sub3']\n",
    "data = np.array([[5, 10, 15], [7, 14, 21], [8, 16, 24], [6, 12, 18]])\n",
    "\n",
    "# Colors for the bars\n",
    "colors = ['#1f77b4', '#ff7f0e', '#2ca02c']\n",
    "\n",
    "# Creating the figure and axis\n",
    "fig, ax = plt.subplots()\n",
    "\n",
    "# Plotting the stacked bar plot\n",
    "for i in range(data.shape[1]):\n",
    "    if i == 0:\n",
    "        bars = ax.bar(categories, data[:, i], color=colors[i])\n",
    "    else:\n",
    "        bars = ax.bar(categories, data[:, i], bottom=np.sum(data[:, :i], axis=1), color=colors[i])\n",
    "\n",
    "# Adding annotations\n",
    "for i in range(data.shape[1]):\n",
    "    for j in range(data.shape[0]):\n",
    "        y = np.sum(data[j, :i+1]) - data[j, i]/2\n",
    "        ax.text(j, y, str(data[j, i]), ha='center', va='center', color='white')\n",
    "\n",
    "# Adding labels and title\n",
    "ax.set_ylabel('Values')\n",
    "ax.set_xlabel('Categories')\n",
    "ax.set_title('Stacked Bar Plot with Annotations')\n",
    "\n",
    "# Adding a legend\n",
    "ax.legend(subcategories)\n",
    "\n",
    "plt.show()\n"
   ]
  },
  {
   "cell_type": "code",
   "execution_count": 22,
   "metadata": {},
   "outputs": [],
   "source": [
    "a = [0,1,2,3,0,5]"
   ]
  },
  {
   "cell_type": "code",
   "execution_count": null,
   "metadata": {},
   "outputs": [],
   "source": []
  }
 ],
 "metadata": {
  "kernelspec": {
   "display_name": ".venv",
   "language": "python",
   "name": "python3"
  },
  "language_info": {
   "codemirror_mode": {
    "name": "ipython",
    "version": 3
   },
   "file_extension": ".py",
   "mimetype": "text/x-python",
   "name": "python",
   "nbconvert_exporter": "python",
   "pygments_lexer": "ipython3",
   "version": "3.10.12"
  }
 },
 "nbformat": 4,
 "nbformat_minor": 2
}
